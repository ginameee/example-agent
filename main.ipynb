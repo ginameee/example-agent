{
 "cells": [
  {
   "cell_type": "code",
   "execution_count": 1,
   "id": "3ef9cc56",
   "metadata": {},
   "outputs": [],
   "source": [
    "import openai\n",
    "\n",
    "client = openai.OpenAI()\n",
    "messages = []"
   ]
  },
  {
   "cell_type": "code",
   "execution_count": null,
   "id": "e717b88b",
   "metadata": {},
   "outputs": [],
   "source": [
    "def call_ai():\n",
    "    response = client.chat.completions.create(\n",
    "        model=\"gpt-4o-mini\",\n",
    "        messages=messages\n",
    "    )\n",
    "\n",
    "    message = response.choices[0].message.content\n",
    "    messages.append({\n",
    "        \"role\": \"assistant\",\n",
    "        \"content\": message\n",
    "    })\n",
    "    print(f\"AI: {message}\")"
   ]
  },
  {
   "cell_type": "code",
   "execution_count": null,
   "id": "be3432f8",
   "metadata": {},
   "outputs": [
    {
     "name": "stdout",
     "output_type": "stream",
     "text": [
      "User: {message}\n",
      "Nice to meet you, Choon! How can I assist you today?\n"
     ]
    }
   ],
   "source": [
    "while True:\n",
    "    message = input(\"Send a message to the LLM...\")\n",
    "    if message == \"quit\" or message == \"q\":\n",
    "        break\n",
    "    else:\n",
    "        messages.append({\n",
    "            \"role\": \"user\",\n",
    "            \"content\": message\n",
    "        })\n",
    "        print(f\"User: {message}\")\n",
    "        call_ai()\n"
   ]
  },
  {
   "cell_type": "code",
   "execution_count": null,
   "id": "f79dcb32",
   "metadata": {},
   "outputs": [],
   "source": []
  }
 ],
 "metadata": {
  "kernelspec": {
   "display_name": ".venv",
   "language": "python",
   "name": "python3"
  },
  "language_info": {
   "codemirror_mode": {
    "name": "ipython",
    "version": 3
   },
   "file_extension": ".py",
   "mimetype": "text/x-python",
   "name": "python",
   "nbconvert_exporter": "python",
   "pygments_lexer": "ipython3",
   "version": "3.13.7"
  }
 },
 "nbformat": 4,
 "nbformat_minor": 5
}
